{
 "cells": [
  {
   "cell_type": "markdown",
   "metadata": {},
   "source": [
    "---\n",
    "\n",
    "_You are currently looking at **version 1.1** of this notebook. To download notebooks and datafiles, as well as get help on Jupyter notebooks in the Coursera platform, visit the [Jupyter Notebook FAQ](https://www.coursera.org/learn/python-data-analysis/resources/0dhYG) course resource._\n",
    "\n",
    "---"
   ]
  },
  {
   "cell_type": "code",
   "execution_count": 46,
   "metadata": {
    "collapsed": true
   },
   "outputs": [],
   "source": [
    "import pandas as pd\n",
    "import numpy as np\n",
    "from scipy.stats import ttest_ind"
   ]
  },
  {
   "cell_type": "markdown",
   "metadata": {},
   "source": [
    "# Assignment 4 - Hypothesis Testing\n",
    "This assignment requires more individual learning than previous assignments - you are encouraged to check out the [pandas documentation](http://pandas.pydata.org/pandas-docs/stable/) to find functions or methods you might not have used yet, or ask questions on [Stack Overflow](http://stackoverflow.com/) and tag them as pandas and python related. And of course, the discussion forums are open for interaction with your peers and the course staff.\n",
    "\n",
    "Definitions:\n",
    "* A _quarter_ is a specific three month period, Q1 is January through March, Q2 is April through June, Q3 is July through September, Q4 is October through December.\n",
    "* A _recession_ is defined as starting with two consecutive quarters of GDP decline, and ending with two consecutive quarters of GDP growth.\n",
    "* A _recession bottom_ is the quarter within a recession which had the lowest GDP.\n",
    "* A _university town_ is a city which has a high percentage of university students compared to the total population of the city.\n",
    "\n",
    "**Hypothesis**: University towns have their mean housing prices less effected by recessions. Run a t-test to compare the ratio of the mean price of houses in university towns the quarter before the recession starts compared to the recession bottom. (`price_ratio=quarter_before_recession/recession_bottom`)\n",
    "\n",
    "The following data files are available for this assignment:\n",
    "* From the [Zillow research data site](http://www.zillow.com/research/data/) there is housing data for the United States. In particular the datafile for [all homes at a city level](http://files.zillowstatic.com/research/public/City/City_Zhvi_AllHomes.csv), ```City_Zhvi_AllHomes.csv```, has median home sale prices at a fine grained level.\n",
    "* From the Wikipedia page on college towns is a list of [university towns in the United States](https://en.wikipedia.org/wiki/List_of_college_towns#College_towns_in_the_United_States) which has been copy and pasted into the file ```university_towns.txt```.\n",
    "* From Bureau of Economic Analysis, US Department of Commerce, the [GDP over time](http://www.bea.gov/national/index.htm#gdp) of the United States in current dollars (use the chained value in 2009 dollars), in quarterly intervals, in the file ```gdplev.xls```. For this assignment, only look at GDP data from the first quarter of 2000 onward.\n",
    "\n",
    "Each function in this assignment below is worth 10%, with the exception of ```run_ttest()```, which is worth 50%."
   ]
  },
  {
   "cell_type": "code",
   "execution_count": 2,
   "metadata": {
    "collapsed": true
   },
   "outputs": [],
   "source": [
    "# Use this dictionary to map state names to two letter acronyms\n",
    "states = {'OH': 'Ohio', 'KY': 'Kentucky', 'AS': 'American Samoa', 'NV': 'Nevada', 'WY': 'Wyoming', 'NA': 'National', 'AL': 'Alabama', 'MD': 'Maryland', 'AK': 'Alaska', 'UT': 'Utah', 'OR': 'Oregon', 'MT': 'Montana', 'IL': 'Illinois', 'TN': 'Tennessee', 'DC': 'District of Columbia', 'VT': 'Vermont', 'ID': 'Idaho', 'AR': 'Arkansas', 'ME': 'Maine', 'WA': 'Washington', 'HI': 'Hawaii', 'WI': 'Wisconsin', 'MI': 'Michigan', 'IN': 'Indiana', 'NJ': 'New Jersey', 'AZ': 'Arizona', 'GU': 'Guam', 'MS': 'Mississippi', 'PR': 'Puerto Rico', 'NC': 'North Carolina', 'TX': 'Texas', 'SD': 'South Dakota', 'MP': 'Northern Mariana Islands', 'IA': 'Iowa', 'MO': 'Missouri', 'CT': 'Connecticut', 'WV': 'West Virginia', 'SC': 'South Carolina', 'LA': 'Louisiana', 'KS': 'Kansas', 'NY': 'New York', 'NE': 'Nebraska', 'OK': 'Oklahoma', 'FL': 'Florida', 'CA': 'California', 'CO': 'Colorado', 'PA': 'Pennsylvania', 'DE': 'Delaware', 'NM': 'New Mexico', 'RI': 'Rhode Island', 'MN': 'Minnesota', 'VI': 'Virgin Islands', 'NH': 'New Hampshire', 'MA': 'Massachusetts', 'GA': 'Georgia', 'ND': 'North Dakota', 'VA': 'Virginia'}"
   ]
  },
  {
   "cell_type": "code",
   "execution_count": 3,
   "metadata": {
    "collapsed": true,
    "umich_part_id": "021",
    "umich_partlist_id": "004"
   },
   "outputs": [],
   "source": [
    "def get_list_of_university_towns():\n",
    "    '''Returns a DataFrame of towns and the states they are in from the \n",
    "    university_towns.txt list. The format of the DataFrame should be:\n",
    "    DataFrame( [ [\"Michigan\", \"Ann Arbor\"], [\"Michigan\", \"Yipsilanti\"] ], \n",
    "    columns=[\"State\", \"RegionName\"]  )\n",
    "    \n",
    "    The following cleaning needs to be done:\n",
    "\n",
    "    1. For \"State\", removing characters from \"[\" to the end.\n",
    "    2. For \"RegionName\", when applicable, removing every character from \" (\" to the end.\n",
    "    3. Depending on how you read the data, you may need to remove newline character '\\n'. '''\n",
    "    \n",
    "    # open text file\n",
    "    f = open('university_towns.txt','r')\n",
    "    # save into list, remove \\n\n",
    "    utowns = [line.strip() for line in f]\n",
    "    utowns\n",
    "    # base state and regions initialized to nothing\n",
    "    s = ''\n",
    "    r = ''\n",
    "    # make a resultant dataframe\n",
    "    data = pd.DataFrame(columns = ['State','RegionName'])\n",
    "    # loop through list\n",
    "    for i in range(0, len(utowns)):\n",
    "        # lines with [edit] are states\n",
    "        if '[edit]' in utowns[i]:\n",
    "            # take out everything after '[...'\n",
    "            sep = '['\n",
    "            s = utowns[i].split(sep, 1)[0].strip()\n",
    "        # lines without are regions\n",
    "        else:\n",
    "            # take out everything after '(...'\n",
    "            sep = '('\n",
    "            r = utowns[i].split(sep, 1)[0].strip()\n",
    "            # add the state/region entry\n",
    "            data = data.append({'State': s, 'RegionName' : r}, ignore_index = True)\n",
    "    return data"
   ]
  },
  {
   "cell_type": "code",
   "execution_count": 30,
   "metadata": {
    "collapsed": true,
    "umich_part_id": "022",
    "umich_partlist_id": "004"
   },
   "outputs": [],
   "source": [
    "def get_recession_start():\n",
    "    '''Returns the year and quarter of the recession start time as a \n",
    "    string value in a format such as 2005q3'''\n",
    "    # read in GDP, start at 2000\n",
    "    GDP = pd.read_excel('gdplev.xls', skiprows = 219)\n",
    "    # drop by-year columns, only want quarterly\n",
    "    GDP.drop(GDP.columns[[0,1,2,3,7]], axis=1, inplace=True)\n",
    "    # rename three columns we need\n",
    "    GDP.columns = ['Quarter', 'GDP', 'GDP2009']\n",
    "    for i in range(0, len(GDP) - 2):\n",
    "        # recession starts when GDP declines 2 years in a row\n",
    "        if GDP.iloc[i]['GDP2009'] > GDP.iloc[i + 1]['GDP2009'] and GDP.iloc[i + 1]['GDP2009'] > GDP.iloc[i + 2]['GDP2009'] :\n",
    "            # print(GDP.iloc[i], '\\n', GDP.iloc[i + 1], '\\n', GDP.iloc[i + 2], '\\n')\n",
    "            # stop loop, found start\n",
    "            break\n",
    "    # year at the start of decline (one after local peak)\n",
    "    return GDP.iloc[i + 1]['Quarter']"
   ]
  },
  {
   "cell_type": "code",
   "execution_count": 4,
   "metadata": {
    "collapsed": true,
    "umich_part_id": "023",
    "umich_partlist_id": "004"
   },
   "outputs": [],
   "source": [
    "def get_recession_end():\n",
    "    '''Returns the year and quarter of the recession end time as a \n",
    "    string value in a format such as 2005q3'''\n",
    "    # read in GDP, start at 2000\n",
    "    GDP = pd.read_excel('gdplev.xls', skiprows = 219)\n",
    "    # drop by-year columns, only want quarterly\n",
    "    GDP.drop(GDP.columns[[0,1,2,3,7]], axis=1, inplace=True)\n",
    "    # rename three columns we need\n",
    "    GDP.columns = ['Quarter', 'GDP', 'GDP2009']\n",
    "    # get the quarter that recession started in\n",
    "    rec_start = get_recession_start()\n",
    "    # get the index that the recession started in\n",
    "    rec_start_index = GDP[GDP['Quarter'] == rec_start].index[0]\n",
    "    # limit to recession start onward\n",
    "    GDP = GDP[rec_start_index:]\n",
    "    GDP\n",
    "    for i in range(0, len(GDP) - 2):\n",
    "        # recession ends when GDP raises 2 years in a row\n",
    "        if GDP.iloc[i]['GDP2009'] < GDP.iloc[i + 1]['GDP2009'] and GDP.iloc[i + 1]['GDP2009'] < GDP.iloc[i + 2]['GDP2009'] :\n",
    "            # print(GDP.iloc[i], '\\n', GDP.iloc[i + 1], '\\n', GDP.iloc[i + 2], '\\n')\n",
    "            # stop loop, found start\n",
    "            break\n",
    "    # end of recession\n",
    "    return GDP.iloc[i + 2]['Quarter']"
   ]
  },
  {
   "cell_type": "code",
   "execution_count": 5,
   "metadata": {
    "collapsed": true,
    "umich_part_id": "024",
    "umich_partlist_id": "004"
   },
   "outputs": [],
   "source": [
    "def get_recession_bottom():\n",
    "    '''Returns the year and quarter of the recession bottom time as a \n",
    "    string value in a format such as 2005q3'''\n",
    "    # read in GDP, start at 2000\n",
    "    GDP = pd.read_excel('gdplev.xls', skiprows = 219)\n",
    "    # drop by-year columns, only want quarterly\n",
    "    GDP.drop(GDP.columns[[0,1,2,3,7]], axis=1, inplace=True)\n",
    "    # rename three columns we need\n",
    "    GDP.columns = ['Quarter', 'GDP', 'GDP2009']\n",
    "    # get the quarter that recession started in\n",
    "    rec_start = get_recession_start()\n",
    "    # get the index that the recession started in\n",
    "    rec_start_index = GDP[GDP['Quarter'] == rec_start].index[0]\n",
    "    # get the quarter that recession ended in\n",
    "    rec_end = get_recession_end()\n",
    "    # get the index that the recession ended in\n",
    "    rec_end_index = GDP[GDP['Quarter'] == rec_end].index[0]\n",
    "    # limit to recession duration\n",
    "    GDP = GDP[rec_start_index:rec_end_index]\n",
    "    # find the index of the minimum GDP\n",
    "    GDPmin = GDP['GDP2009'].idxmin()\n",
    "    # find the quarter of that index\n",
    "    return GDP.loc[GDPmin]['Quarter']"
   ]
  },
  {
   "cell_type": "code",
   "execution_count": 6,
   "metadata": {
    "collapsed": true,
    "umich_part_id": "025",
    "umich_partlist_id": "004"
   },
   "outputs": [],
   "source": [
    "def convert_housing_data_to_quarters():\n",
    "    '''Converts the housing data to quarters and returns it as mean \n",
    "    values in a dataframe. This dataframe should be a dataframe with\n",
    "    columns for 2000q1 through 2016q3, and should have a multi-index\n",
    "    in the shape of [\"State\",\"RegionName\"].\n",
    "    \n",
    "    Note: Quarters are defined in the assignment description, they are\n",
    "    not arbitrary three month periods.\n",
    "    \n",
    "    The resulting dataframe should have 67 columns, and 10,730 rows.\n",
    "    '''\n",
    "    city = pd.read_csv('City_Zhvi_AllHomes.csv')\n",
    "    # city.drop(city.loc[:,'1996-04':'1999-12'], inplace = True, axis = 1)\n",
    "    cityinfo = city[['State', 'RegionName']]\n",
    "    cityinfo = cityinfo.replace({\"State\": states})\n",
    "    # year 2000 and on\n",
    "    cityquarters = city.loc[:, '2000-01':]\n",
    "    cityquarters\n",
    "    # convert to quarters\n",
    "    cityquarters = (cityquarters.groupby(pd.PeriodIndex(cityquarters.columns, freq='Q'), axis=1)\n",
    "                                .mean()\n",
    "                                .rename(columns=lambda c: str(c).lower()))\n",
    "    city = pd.concat([cityinfo, cityquarters], axis = 1)\n",
    "    city = city.set_index(['State', 'RegionName'])\n",
    "    return city\n"
   ]
  },
  {
   "cell_type": "code",
   "execution_count": 1,
   "metadata": {
    "scrolled": true,
    "umich_part_id": "026",
    "umich_partlist_id": "004"
   },
   "outputs": [],
   "source": [
    "def run_ttest():\n",
    "    '''First creates new data showing the decline or growth of housing prices\n",
    "    between the recession start and the recession bottom. Then runs a ttest\n",
    "    comparing the university town values to the non-university towns values, \n",
    "    return whether the alternative hypothesis (that the two groups are the same)\n",
    "    is true or not as well as the p-value of the confidence. \n",
    "    \n",
    "    Return the tuple (different, p, better) where different=True if the t-test is\n",
    "    True at a p<0.01 (we reject the null hypothesis), or different=False if \n",
    "    otherwise (we cannot reject the null hypothesis). The variable p should\n",
    "    be equal to the exact p value returned from scipy.stats.ttest_ind(). The\n",
    "    value for better should be either \"university town\" or \"non-university town\"\n",
    "    depending on which has a lower mean price ratio (which is equivilent to a\n",
    "    reduced market loss).'''\n",
    "    # read in GDP, start at 2000\n",
    "    GDP = pd.read_excel('gdplev.xls', skiprows = 219)\n",
    "    # drop by-year columns, only want quarterly\n",
    "    GDP.drop(GDP.columns[[0,1,2,3,7]], axis=1, inplace=True)\n",
    "    # rename three columns we need\n",
    "    GDP.columns = ['Quarter', 'GDP', 'GDP2009']\n",
    "    # get the quarter that recession started in\n",
    "    rec_start = get_recession_start()\n",
    "    # get the index one quarter before recession start\n",
    "    before_rec_index = GDP[GDP['Quarter'] == rec_start].index[0] - 1\n",
    "    before_rec_q = GDP['Quarter'].iloc[before_rec_index]\n",
    "    rec_bottom = get_recession_bottom()\n",
    "\n",
    "    # get university towns and cities and find the desired ratio\n",
    "    utown = get_list_of_university_towns().set_index(['State','RegionName'])\n",
    "    city = convert_housing_data_to_quarters()\n",
    "    city['Ratio'] = city[before_rec_q] / city[rec_bottom]\n",
    "    \n",
    "    # make dfs for only university towns and non-university towns\n",
    "    onlyutown = pd.merge(utown, city, how='inner', left_index = True, right_index = True)\n",
    "    nonutown = city[~city.index.isin(utown.index)]\n",
    "    \n",
    "    # t-test, remove nas\n",
    "    res = ttest_ind(onlyutown['Ratio'], nonutown['Ratio'], nan_policy = 'omit')\n",
    "    \n",
    "    # check if results are significant (p-val < .01)\n",
    "    different = False\n",
    "    if(res[1] < .01):\n",
    "        different = True\n",
    "    # check which had a lower ratio\n",
    "    better = ''\n",
    "    if(onlyutown['Ratio'].mean() < nonutown['Ratio'].mean()):\n",
    "        better = 'university town'\n",
    "    else:\n",
    "        better = 'non-university town'\n",
    "    return (different, res[1], better)"
   ]
  }
 ],
 "metadata": {
  "coursera": {
   "course_slug": "python-data-analysis",
   "graded_item_id": "Il9Fx",
   "launcher_item_id": "TeDW0",
   "part_id": "WGlun"
  },
  "kernelspec": {
   "display_name": "Python 3",
   "language": "python",
   "name": "python3"
  },
  "language_info": {
   "codemirror_mode": {
    "name": "ipython",
    "version": 3
   },
   "file_extension": ".py",
   "mimetype": "text/x-python",
   "name": "python",
   "nbconvert_exporter": "python",
   "pygments_lexer": "ipython3",
   "version": "3.6.0"
  },
  "umich": {
   "id": "Assignment 4",
   "version": "1.1"
  }
 },
 "nbformat": 4,
 "nbformat_minor": 1
}
